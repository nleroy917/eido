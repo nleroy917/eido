{
 "cells": [
  {
   "cell_type": "markdown",
   "metadata": {},
   "source": [
    "# `eido` command line usage"
   ]
  },
  {
   "cell_type": "markdown",
   "metadata": {},
   "source": [
    "To use the command line application one just needs two required paths as arguments to the `eido` command:\n",
    "\n",
    "- a path to a project configuration file (`-p`/`--pep` option)\n",
    "- a path to a YAML formatted schema (`-s`/`--schema` option)\n",
    "\n",
    "Optionally, to validate just the config part of the PEP or a specific sample, `-n`/`--sample-name` or `-c`/`--just-config` arguments should be used, respectively. Please refer to the help for more details:\n",
    "\n",
    "```\n",
    "~ eido -h\n",
    "```\n",
    "```\n",
    "version: 0.0.5\n",
    "usage: eido [-h] [-V] -p PEP -s SCHEMA [-e] [-n SAMPLE_NAME | -c] [--silent]\n",
    "            [--verbosity V] [--logdev]\n",
    "\n",
    "eido - validate project metadata against a schema\n",
    "\n",
    "optional arguments:\n",
    "  -h, --help            show this help message and exit\n",
    "  -V, --version         show program's version number and exit\n",
    "  -p PEP, --pep PEP     PEP configuration file in yaml format.\n",
    "  -s SCHEMA, --schema SCHEMA\n",
    "                        PEP schema file in yaml format.\n",
    "  -e, --exclude-case    Whether to exclude the validation case from an error.\n",
    "                        Only the human readable message explaining the error\n",
    "                        will be raised. Useful when validating large PEPs.\n",
    "  -n SAMPLE_NAME, --sample-name SAMPLE_NAME\n",
    "                        Name or index of the sample to validate. Only this\n",
    "                        sample will be validated.\n",
    "  -c, --just-config     Whether samples should be excluded from the\n",
    "                        validation.\n",
    "  --silent              Silence logging. Overrides verbosity.\n",
    "  --verbosity V         Set logging level (1-5 or logging module level name)\n",
    "  --logdev              Expand content of logging message format.\n",
    "\n",
    "https://github.com/pepkit/eido\n",
    "```\n",
    "\n",
    "Successful validation of the project is confirmed with an appropriate message:\n",
    "```\n",
    "~ eido -p config.yaml -s tests/data/schemas/test_schema.yaml\n",
    "```\n",
    "```\n",
    "Reading sample annotations sheet: '/Users/mstolarczyk/Uczelnia/UVA/code/ppqc/ppqc_annotation_revised.csv'\n",
    "Validation successful\n",
    "```\n",
    "\n",
    "Alternatively, a [`jsonschema.exceptions.ValidationError`](https://python-jsonschema.readthedocs.io/en/stable/errors/#jsonschema.exceptions.ValidationError) is raised with a discrepancy description."
   ]
  }
 ],
 "metadata": {
  "kernelspec": {
   "display_name": "Python 3",
   "language": "python",
   "name": "python3"
  },
  "language_info": {
   "codemirror_mode": {
    "name": "ipython",
    "version": 3
   },
   "file_extension": ".py",
   "mimetype": "text/x-python",
   "name": "python",
   "nbconvert_exporter": "python",
   "pygments_lexer": "ipython3",
   "version": "3.6.5"
  }
 },
 "nbformat": 4,
 "nbformat_minor": 2
}
