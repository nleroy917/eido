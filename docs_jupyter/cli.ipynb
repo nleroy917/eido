{
 "cells": [
  {
   "cell_type": "markdown",
   "metadata": {},
   "source": [
    "# `eido` command line usage"
   ]
  },
  {
   "cell_type": "markdown",
   "metadata": {},
   "source": [
    "To use the command line application one just needs a path to a project configuration file. It is a positional argument in the `eido` command.\n",
    "\n",
    "For this tutorial, let's grab a PEP from a public example repository that describes a few PRO-seq test samples:"
   ]
  },
  {
   "cell_type": "code",
   "execution_count": 1,
   "metadata": {},
   "outputs": [
    {
     "name": "stdout",
     "output_type": "stream",
     "text": [
      "Cloning into 'ppqc'...\n",
      "remote: Enumerating objects: 119, done.\u001B[K\n",
      "remote: Counting objects: 100% (119/119), done.\u001B[K\n",
      "remote: Compressing objects: 100% (78/78), done.\u001B[K\n",
      "remote: Total 119 (delta 64), reused 93 (delta 41), pack-reused 0\u001B[K\n",
      "Receiving objects: 100% (119/119), 74.66 KiB | 2.20 MiB/s, done.\n",
      "Resolving deltas: 100% (64/64), done.\n"
     ]
    }
   ],
   "source": [
    "git clone https://github.com/databio/ppqc.git --branch cfg2"
   ]
  },
  {
   "cell_type": "code",
   "execution_count": 2,
   "metadata": {},
   "outputs": [],
   "source": [
    "cd ppqc\n",
    "export DATA=$HOME"
   ]
  },
  {
   "cell_type": "markdown",
   "metadata": {},
   "source": [
    "## PEP inspection\n",
    "\n",
    "First, let's use `eido inspect` to inspect a PEP. \n",
    "\n",
    " - To inspect the entire `Project` object just provide the path to the project configuration file."
   ]
  },
  {
   "cell_type": "code",
   "execution_count": 3,
   "metadata": {},
   "outputs": [
    {
     "name": "stdout",
     "output_type": "stream",
     "text": [
      "Project 'PEPPRO' (/Users/mstolarczyk/Uczelnia/UVA/code/eido/docs_jupyter/ppqc/peppro_paper.yaml)\n",
      "22 samples (showing first 20): K562_PRO-seq, K562_RNA-seq_10, K562_RNA-seq_20, K562_RNA-seq_30, K562_RNA-seq_40, K562_RNA-seq_50, K562_RNA-seq_60, K562_RNA-seq_70, K562_RNA-seq_80, K562_RNA-seq_90, K562_GRO-seq, HelaS3_GRO-seq, Jurkat_ChRO-seq_1, Jurkat_ChRO-seq_2, HEK_PRO-seq, HEK_ARF_PRO-seq, H9_PRO-seq_1, H9_PRO-seq_2, H9_PRO-seq_3, H9_treated_PRO-seq_1\n",
      "Sections: name, sample_table, looper, sample_modifiers, pep_version\n"
     ]
    }
   ],
   "source": [
    "eido inspect peppro_paper.yaml"
   ]
  },
  {
   "cell_type": "markdown",
   "metadata": {},
   "source": [
    " - To inspect a specific sample, one needs to provide the sample name (via `-n`/`--sample-name` oprional argument)"
   ]
  },
  {
   "cell_type": "code",
   "execution_count": 4,
   "metadata": {},
   "outputs": [
    {
     "name": "stdout",
     "output_type": "stream",
     "text": [
      "Sample 'K562_PRO-seq' in Project (/Users/mstolarczyk/Uczelnia/UVA/code/eido/docs_jupyter/ppqc/peppro_paper.yaml)\n",
      "\n",
      "sample_name:                    K562_PRO-seq\n",
      "sample_desc:                    K562 PRO-seq\n",
      "treatment:                      none\n",
      "replicate:                      1\n",
      "toggle:                         1\n",
      "protocol:                       PRO\n",
      "organism:                       human\n",
      "read_type:                      SINGLE\n",
      "cell_type:                      K562\n",
      "purpose:                        gold standard\n",
      "umi_status:                     FALSE\n",
      "\n",
      "...                           (showing first 10)\n",
      "\n",
      "\n",
      "Sample 'K562_RNA-seq_10' in Project (/Users/mstolarczyk/Uczelnia/UVA/code/eido/docs_jupyter/ppqc/peppro_paper.yaml)\n",
      "\n",
      "sample_name:            K562_RNA-seq_10\n",
      "sample_desc:            90% K562 PRO-seq + 10% K562 RNA-seq\n",
      "treatment:              none\n",
      "replicate:              1\n",
      "toggle:                 1\n",
      "protocol:               PRO\n",
      "organism:               human\n",
      "read_type:              SINGLE\n",
      "cell_type:              K562\n",
      "purpose:                mRNA contamination; FRiF/PRiF\n",
      "umi_status:             FALSE\n",
      "\n",
      "...                   (showing first 10)\n",
      "\n",
      "\n"
     ]
    }
   ],
   "source": [
    "eido inspect peppro_paper.yaml -n K562_PRO-seq K562_RNA-seq_10"
   ]
  },
  {
   "cell_type": "markdown",
   "metadata": {},
   "source": [
    "## PEP validation"
   ]
  },
  {
   "cell_type": "markdown",
   "metadata": {},
   "source": [
    "Next, let's use `eido` to validate this project against the generic PEP schema. You just need to provide a path to the project config file and schema as an input."
   ]
  },
  {
   "cell_type": "code",
   "execution_count": 5,
   "metadata": {},
   "outputs": [
    {
     "name": "stdout",
     "output_type": "stream",
     "text": [
      "Validation successful\n"
     ]
    }
   ],
   "source": [
    "eido validate peppro_paper.yaml -s http://schema.databio.org/pep/2.0.0.yaml -e"
   ]
  },
  {
   "cell_type": "markdown",
   "metadata": {},
   "source": [
    "Any PEP should validate against that schema, which describes generic PEP format. We can go one step further and validate it against the PEPPRO schema, which describes Proseq projects specfically for this pipeline:"
   ]
  },
  {
   "cell_type": "code",
   "execution_count": 6,
   "metadata": {},
   "outputs": [
    {
     "name": "stdout",
     "output_type": "stream",
     "text": [
      "Validation successful\n"
     ]
    }
   ],
   "source": [
    "eido validate peppro_paper.yaml -s http://schema.databio.org/pipelines/ProseqPEP.yaml"
   ]
  },
  {
   "cell_type": "markdown",
   "metadata": {},
   "source": [
    "This project would *not* validate against a different pipeline's schema.\n",
    "\n",
    "Following `jsonschema`, `eido` produces comprehensive error messages that include the objects that did not pass validation. When validating PEPs that include lots of samples one can use option `-e`/`--exclude-case` to limit the error output just to the human readable message. This is the option used in the example below:"
   ]
  },
  {
   "cell_type": "code",
   "execution_count": 7,
   "metadata": {},
   "outputs": [
    {
     "name": "stdout",
     "output_type": "stream",
     "text": [
      "Traceback (most recent call last):\n",
      "  File \"/Library/Frameworks/Python.framework/Versions/3.6/bin/eido\", line 10, in <module>\n",
      "    sys.exit(main())\n",
      "  File \"/Library/Frameworks/Python.framework/Versions/3.6/lib/python3.6/site-packages/eido/eido.py\", line 259, in main\n",
      "    validate_project(p, args.schema, args.exclude_case)\n",
      "  File \"/Library/Frameworks/Python.framework/Versions/3.6/lib/python3.6/site-packages/eido/eido.py\", line 171, in validate_project\n",
      "    exclude_case)\n",
      "  File \"/Library/Frameworks/Python.framework/Versions/3.6/lib/python3.6/site-packages/eido/eido.py\", line 155, in _validate_object\n",
      "    raise jsonschema.exceptions.ValidationError(e.message)\n",
      "jsonschema.exceptions.ValidationError: 'input_file_path' is a required property\n"
     ]
    },
    {
     "ename": "",
     "evalue": "1",
     "output_type": "error",
     "traceback": []
    }
   ],
   "source": [
    "eido validate peppro_paper.yaml -s http://schema.databio.org/pipelines/bedmaker.yaml -e"
   ]
  },
  {
   "cell_type": "markdown",
   "metadata": {},
   "source": [
    "Optionally, to validate just the config part of the PEP or a specific sample, `-n`/`--sample-name` or `-c`/`--just-config` arguments should be used, respectively. Please refer to the help for more details:"
   ]
  },
  {
   "cell_type": "code",
   "execution_count": 18,
   "metadata": {},
   "outputs": [
    {
     "name": "stdout",
     "output_type": "stream",
     "text": [
      "usage: eido validate [-h] -s S [-e] [-n S | -c] PEP\n",
      "\n",
      "Validate the PEP or its components.\n",
      "\n",
      "positional arguments:\n",
      "  PEP                   Path to a PEP configuration file in yaml format.\n",
      "\n",
      "optional arguments:\n",
      "  -h, --help            show this help message and exit\n",
      "  -s S, --schema S      Path to a PEP schema file in yaml format.\n",
      "  -e, --exclude-case    Whether to exclude the validation case from an error.\n",
      "                        Only the human readable message explaining the error\n",
      "                        will be raised. Useful when validating large PEPs.\n",
      "  -n S, --sample-name S\n",
      "                        Name or index of the sample to validate. Only this\n",
      "                        sample will be validated.\n",
      "  -c, --just-config     Whether samples should be excluded from the\n",
      "                        validation.\n"
     ]
    }
   ],
   "source": [
    "eido validate -h"
   ]
  },
  {
   "cell_type": "code",
   "execution_count": null,
   "metadata": {},
   "outputs": [],
   "source": []
  }
 ],
 "metadata": {
  "kernelspec": {
   "display_name": "Bash",
   "language": "bash",
   "name": "bash"
  },
  "language_info": {
   "codemirror_mode": "shell",
   "file_extension": ".sh",
   "mimetype": "text/x-sh",
   "name": "bash"
  }
 },
 "nbformat": 4,
 "nbformat_minor": 2
}