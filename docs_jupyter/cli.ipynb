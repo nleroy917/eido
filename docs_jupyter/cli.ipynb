{
 "cells": [
  {
   "cell_type": "markdown",
   "metadata": {},
   "source": [
    "# `eido` command line usage"
   ]
  },
  {
   "cell_type": "markdown",
   "metadata": {},
   "source": [
    "To use the command line application one just needs two required paths as arguments to the `eido` command:\n",
    "\n",
    "- a path to a project configuration file (`-p`/`--pep` option)\n",
    "- a path to a YAML formatted schema (`-s`/`--schema` option)\n",
    "\n",
    "For this tutorial, let's grab a PEP from a public example repository that describes a few PRO-seq test samples:\n"
   ]
  },
  {
   "cell_type": "code",
   "execution_count": 12,
   "metadata": {},
   "outputs": [
    {
     "name": "stdout",
     "output_type": "stream",
     "text": [
      "Cloning into 'ppqc'...\n",
      "remote: Enumerating objects: 78, done.\u001b[K\n",
      "remote: Counting objects: 100% (78/78), done.\u001b[K\n",
      "remote: Compressing objects: 100% (56/56), done.\u001b[K\n",
      "remote: Total 78 (delta 38), reused 61 (delta 22), pack-reused 0\u001b[K\n",
      "Receiving objects: 100% (78/78), 36.38 KiB | 0 bytes/s, done.\n",
      "Resolving deltas: 100% (38/38), done.\n",
      "Checking connectivity... done.\n"
     ]
    }
   ],
   "source": [
    "git clone git@github.com:databio/ppqc.git"
   ]
  },
  {
   "cell_type": "code",
   "execution_count": 4,
   "metadata": {},
   "outputs": [],
   "source": [
    "cd ppqc"
   ]
  },
  {
   "cell_type": "markdown",
   "metadata": {},
   "source": [
    "First, let's use `eido` to validate this project against the generic PEP schema. You just need to provide a path to the project config file and schema as an input."
   ]
  },
  {
   "cell_type": "code",
   "execution_count": 7,
   "metadata": {},
   "outputs": [
    {
     "name": "stdout",
     "output_type": "stream",
     "text": [
      "Reading sample annotations sheet: '/home/nsheff/code/eido/docs_jupyter/ppqc/ppqc_annotation_revised.csv'\n",
      "Storing sample table from file '/home/nsheff/code/eido/docs_jupyter/ppqc/ppqc_annotation_revised.csv'\n",
      "Reading subannotations: /home/nsheff/code/eido/docs_jupyter/ppqc/ppqc_subannotation.csv\n",
      "Validation successful\n"
     ]
    }
   ],
   "source": [
    "eido -p ppqc_config.yaml -s http://schema.databio.org/PEP/pep.yaml"
   ]
  },
  {
   "cell_type": "markdown",
   "metadata": {},
   "source": [
    "Any PEP should validate against that schema, which describes generic PEP format. We can go one step further and validate it against the PEPPRO schema, which describes Proseq projects specfically for this pipeline:"
   ]
  },
  {
   "cell_type": "code",
   "execution_count": 8,
   "metadata": {},
   "outputs": [
    {
     "name": "stdout",
     "output_type": "stream",
     "text": [
      "Reading sample annotations sheet: '/home/nsheff/code/eido/docs_jupyter/ppqc/ppqc_annotation_revised.csv'\n",
      "Storing sample table from file '/home/nsheff/code/eido/docs_jupyter/ppqc/ppqc_annotation_revised.csv'\n",
      "Reading subannotations: /home/nsheff/code/eido/docs_jupyter/ppqc/ppqc_subannotation.csv\n",
      "Validation successful\n"
     ]
    }
   ],
   "source": [
    "eido -p ppqc_config.yaml -s http://schema.databio.org/pipelines/ProseqPEP.yaml"
   ]
  },
  {
   "cell_type": "markdown",
   "metadata": {},
   "source": [
    "This project would *not* validate against a different pipeline's schema:"
   ]
  },
  {
   "cell_type": "code",
   "execution_count": 10,
   "metadata": {},
   "outputs": [
    {
     "name": "stdout",
     "output_type": "stream",
     "text": [
      "Reading sample annotations sheet: '/home/nsheff/code/eido/docs_jupyter/ppqc/ppqc_annotation_revised.csv'\n",
      "Storing sample table from file '/home/nsheff/code/eido/docs_jupyter/ppqc/ppqc_annotation_revised.csv'\n",
      "Reading subannotations: /home/nsheff/code/eido/docs_jupyter/ppqc/ppqc_subannotation.csv\n",
      "Traceback (most recent call last):\n",
      "  File \"/home/nsheff/.local/bin/eido\", line 8, in <module>\n",
      "    sys.exit(main())\n",
      "  File \"/home/nsheff/.local/lib/python3.7/site-packages/eido/eido.py\", line 189, in main\n",
      "    validate_project(p, args.schema, args.exclude_case)\n",
      "  File \"/home/nsheff/.local/lib/python3.7/site-packages/eido/eido.py\", line 118, in validate_project\n",
      "    _validate_object(project_dict, _preprocess_schema(schema_dict), exclude_case)\n",
      "  File \"/home/nsheff/.local/lib/python3.7/site-packages/eido/eido.py\", line 103, in _validate_object\n",
      "    raise e\n",
      "  File \"/home/nsheff/.local/lib/python3.7/site-packages/eido/eido.py\", line 100, in _validate_object\n",
      "    jsonschema.validate(object, schema)\n",
      "  File \"/home/nsheff/.local/lib/python3.7/site-packages/jsonschema/validators.py\", line 899, in validate\n",
      "    raise error\n",
      "jsonschema.exceptions.ValidationError: 'input_file_path' is a required property\n",
      "\n",
      "Failed validating 'required' in schema['properties']['_samples']['items']:\n",
      "    {'properties': {'antibody': {'description': 'antibody used if ChIP-seq '\n",
      "                                                'experiment',\n",
      "                                 'type': 'string'},\n",
      "                    'cell_type': {'description': 'cell type code',\n",
      "                                  'type': 'string'},\n",
      "                    'data_source': {'description': 'source of the sample, '\n",
      "                                                   'preferably a GSE* code',\n",
      "                                    'type': 'string'},\n",
      "                    'description': {'description': 'freeform description '\n",
      "                                                   'of the sample',\n",
      "                                    'type': 'string'},\n",
      "                    'exp_protocol': {'description': 'type of the '\n",
      "                                                    'experiment the file '\n",
      "                                                    'was generated in',\n",
      "                                     'type': 'string'},\n",
      "                    'format': {'description': 'file format',\n",
      "                               'enum': ['bigWig',\n",
      "                                        'bigBed',\n",
      "                                        'bed',\n",
      "                                        'wig',\n",
      "                                        'bedGraph'],\n",
      "                               'type': 'string'},\n",
      "                    'genome': {'description': 'organism genome code',\n",
      "                               'enum': ['hg18',\n",
      "                                        'hg19',\n",
      "                                        'hg38',\n",
      "                                        'mm9',\n",
      "                                        'mm10'],\n",
      "                               'type': 'string'},\n",
      "                    'input_file_path': {'description': 'absolute path the '\n",
      "                                                       'file to convert',\n",
      "                                        'type': 'string'},\n",
      "                    'narrowpeak': {'description': 'whether the regions are '\n",
      "                                                  'narrow (transcription '\n",
      "                                                  'factor implies narrow, '\n",
      "                                                  'histone mark implies '\n",
      "                                                  'broad peaks)',\n",
      "                                   'type': 'string'},\n",
      "                    'output_file_path': {'description': 'absolute path the '\n",
      "                                                        'file to the '\n",
      "                                                        'output BED file '\n",
      "                                                        '(derived '\n",
      "                                                        'attribute)',\n",
      "                                         'type': 'string'},\n",
      "                    'sample_name': {'description': 'name of the sample, '\n",
      "                                                   'which is the name of '\n",
      "                                                   'the output BED file',\n",
      "                                    'type': 'string'},\n",
      "                    'treatment': {'description': 'freeform description of '\n",
      "                                                 'the sample treatment',\n",
      "                                  'type': 'string'}},\n",
      "     'required': ['input_file_path',\n",
      "                  'output_file_path',\n",
      "                  'genome',\n",
      "                  'narrowpeak',\n",
      "                  'sample_name'],\n",
      "     'type': 'object'}\n",
      "\n",
      "On instance['_samples'][0]:\n",
      "    {'SRR': 'SRR1693611 SRR1693612',\n",
      "     'SRX': 'SRX796411 SRX796411',\n",
      "     'Sample_channel_count': '1',\n",
      "     'Sample_characteristics_ch1': 'cell type: HelaS3',\n",
      "     'Sample_contact_address': 'Robert-Rössle-Str. 10',\n",
      "     'Sample_contact_city': 'Berlin-Buch',\n",
      "     'Sample_contact_country': 'Germany',\n",
      "     'Sample_contact_department': 'Berlin Institute for Medical Systems '\n",
      "                                  'Biology',\n",
      "     'Sample_contact_email': 'scott.lacadie@mdc-berlin.de',\n",
      "     'Sample_contact_institute': 'Max Delbrück Center for Molecular '\n",
      "                                 'Medicine',\n",
      "     'Sample_contact_laboratory': 'Ohler',\n",
      "     'Sample_contact_name': 'Scott,Allen,Lacadie',\n",
      "     'Sample_contact_zip/postal_code': '13092',\n",
      "     'Sample_data_processing': 'Supplementary_files_format_and_content: '\n",
      "                               'bedGraph files are split by strand and '\n",
      "                               \"scores represent the number of read 5'ends \"\n",
      "                               'that aligned at that coordinate. .bed '\n",
      "                               \"cluster file represent 5'-GRO-seq peak \"\n",
      "                               'coordinates where column 3 is a unique '\n",
      "                               'identifier and column 4 is the coordinate '\n",
      "                               'of the position in the cluster containing '\n",
      "                               'the most reads (cluster mode)',\n",
      "     'Sample_data_row_count': '0',\n",
      "     'Sample_description': 'run-on RNA',\n",
      "     'Sample_extract_protocol_ch1': 'For 5’GRO-seq, immunoprecipitated RNA '\n",
      "                                    'was dephosphorylated with calf '\n",
      "                                    'intestinal phosphatase (NEB). Then 5′ '\n",
      "                                    'capped fragments were de-capped with '\n",
      "                                    'tobacco acid pyrophosphatase '\n",
      "                                    '(Epicentre). Illumina TruSeq adapters '\n",
      "                                    'were ligated to the RNA 3′ and 5′ '\n",
      "                                    'ends with truncated mutant RNA ligase '\n",
      "                                    '2 (K227Q) and RNA ligase 1 (NEB), '\n",
      "                                    'respectively. Reverse transcription '\n",
      "                                    'was performed with Superscript III '\n",
      "                                    '(Invitrogen) followed by PCR '\n",
      "                                    'amplification for 12 cycles. Final '\n",
      "                                    'libraries were size selected on '\n",
      "                                    'PAGE/TBE gels to 175–225 bp. GRO-seq '\n",
      "                                    'was essentially performed as '\n",
      "                                    '5’GRO-seq but the immunoprecipitated '\n",
      "                                    'RNA was directly de-capped with '\n",
      "                                    'tobacco acid pyrophosphatase '\n",
      "                                    '(Epicentre) and subsequently kinased '\n",
      "                                    'with PNK (NEB) prior to adapter '\n",
      "                                    'ligation.',\n",
      "     'Sample_geo_accession': 'GSM1558746',\n",
      "     'Sample_instrument_model': 'Illumina HiSeq 2500',\n",
      "     'Sample_last_update_date': 'May 15 2019',\n",
      "     'Sample_library_selection': 'cDNA',\n",
      "     'Sample_library_source': 'transcriptomic',\n",
      "     'Sample_library_strategy': 'RNA-Seq',\n",
      "     'Sample_molecule_ch1': 'total RNA',\n",
      "     'Sample_organism_ch1': 'Homo sapiens',\n",
      "     'Sample_platform_id': 'GPL16791',\n",
      "     'Sample_relation': 'SRA: https://www.ncbi.nlm.nih.gov/sra?term',\n"
     ]
    },
    {
     "name": "stdout",
     "output_type": "stream",
     "text": [
      "     'Sample_series_id': 'GSE63872',\n",
      "     'Sample_source_name_ch1': 'HelaS3_cells',\n",
      "     'Sample_status': 'Public on Jan 16 2015',\n",
      "     'Sample_submission_date': 'Dec 04 2014',\n",
      "     'Sample_supplementary_file_1': 'ftp://ftp.ncbi.nlm.nih.gov/geo/samples/GSM1558nnn/GSM1558746/suppl/GSM1558746_GRO-seq_signal_minus.bedGraph.gz',\n",
      "     'Sample_supplementary_file_2': 'ftp://ftp.ncbi.nlm.nih.gov/geo/samples/GSM1558nnn/GSM1558746/suppl/GSM1558746_GRO-seq_signal_plus.bedGraph.gz',\n",
      "     'Sample_taxid_ch1': '9606',\n",
      "     'Sample_title': 'HelaS3_GRO-seq',\n",
      "     'Sample_type': 'SRA',\n",
      "     'cell_type': 'HelaS3',\n",
      "     'derived_cols_done': [],\n",
      "     'genome': 'hg38',\n",
      "     'gsm_id': 'GSM1558746',\n",
      "     'merged': True,\n",
      "     'merged_cols': {'SRR': 'SRR1693611 SRR1693612',\n",
      "                     'SRX': 'SRX796411 SRX796411',\n",
      "                     'read1': '/project/shefflab/data/sra_bam//SRR1693611.bam '\n",
      "                              '/project/shefflab/data/sra_bam//SRR1693612.bam',\n",
      "                     'read1_key': 'SRA SRA',\n",
      "                     'subsample_name': '0 1'},\n",
      "     'name': 'GSM1558746',\n",
      "     'organism': 'Homo sapiens',\n",
      "     'paths': Paths object.,\n",
      "     'problem': 'pause_index',\n",
      "     'protocol': 'GRO',\n",
      "     'read1': '/project/shefflab/data/sra_bam//SRR1693611.bam '\n",
      "              '/project/shefflab/data/sra_bam//SRR1693612.bam',\n",
      "     'read1_key': 'SRA SRA',\n",
      "     'read_type': 'SINGLE',\n",
      "     'required_paths': None,\n",
      "     'results_subdir': '/ext/yeti/processed//ppqc/results_pipeline',\n",
      "     'sample_name': 'GSM1558746',\n",
      "     'sheet_attributes': ['sample_name',\n",
      "                          'protocol',\n",
      "                          'organism',\n",
      "                          'umi_len',\n",
      "                          'unknown2',\n",
      "                          'read_type',\n",
      "                          'cell_type',\n",
      "                          'problem',\n",
      "                          'read1',\n",
      "                          'SRR',\n",
      "                          'SRX',\n",
      "                          'Sample_title',\n",
      "                          'Sample_geo_accession',\n",
      "                          'Sample_status',\n",
      "                          'Sample_submission_date',\n",
      "                          'Sample_last_update_date',\n",
      "                          'Sample_type',\n",
      "                          'Sample_channel_count',\n",
      "                          'Sample_source_name_ch1',\n",
      "                          'Sample_organism_ch1',\n",
      "                          'Sample_taxid_ch1',\n",
      "                          'Sample_characteristics_ch1',\n",
      "                          'Sample_molecule_ch1',\n",
      "                          'Sample_extract_protocol_ch1',\n",
      "                          'Sample_description',\n",
      "                          'Sample_data_processing',\n",
      "                          'Sample_platform_id',\n",
      "                          'Sample_contact_name',\n",
      "                          'Sample_contact_email',\n",
      "                          'Sample_contact_laboratory',\n",
      "                          'Sample_contact_department',\n",
      "                          'Sample_contact_institute',\n",
      "                          'Sample_contact_address',\n",
      "                          'Sample_contact_city',\n",
      "                          'Sample_contact_zip/postal_code',\n",
      "                          'Sample_contact_country',\n",
      "                          'Sample_instrument_model',\n",
      "                          'Sample_library_selection',\n",
      "                          'Sample_library_source',\n",
      "                          'Sample_library_strategy',\n",
      "                          'Sample_relation',\n",
      "                          'gsm_id',\n",
      "                          'Sample_supplementary_file_1',\n",
      "                          'Sample_supplementary_file_2',\n",
      "                          'Sample_series_id',\n",
      "                          'Sample_data_row_count'],\n",
      "     'subsample_name': '0 1',\n",
      "     'subsamples': [{'SRR': 'SRR1693611',\n",
      "                     'SRX': 'SRX796411',\n",
      "                     'sample': None,\n",
      "                     'sample_name': 'GSM1558746',\n",
      "                     'subsample_name': '0'},\n",
      "                    {'SRR': 'SRR1693612',\n",
      "                     'SRX': 'SRX796411',\n",
      "                     'sample': None,\n",
      "                     'sample_name': 'GSM1558746',\n",
      "                     'subsample_name': '1'}],\n",
      "     'umi_len': '0',\n",
      "     'unknown2': 'PE1',\n",
      "     'yaml_file': None}\n"
     ]
    },
    {
     "ename": "",
     "evalue": "1",
     "output_type": "error",
     "traceback": []
    }
   ],
   "source": [
    "eido -p ppqc_config.yaml -s http://schema.databio.org/pipelines/bedmaker.yaml"
   ]
  },
  {
   "cell_type": "markdown",
   "metadata": {},
   "source": [
    "Optionally, to validate just the config part of the PEP or a specific sample, `-n`/`--sample-name` or `-c`/`--just-config` arguments should be used, respectively. Please refer to the help for more details:"
   ]
  },
  {
   "cell_type": "code",
   "execution_count": 11,
   "metadata": {},
   "outputs": [
    {
     "name": "stdout",
     "output_type": "stream",
     "text": [
      "version: 0.0.6\n",
      "usage: eido [-h] [--version] -p PEP -s SCHEMA [-e] [-n SAMPLE_NAME | -c]\n",
      "            [--silent] [--verbosity V] [--logdev]\n",
      "\n",
      "eido - validate project metadata against a schema\n",
      "\n",
      "optional arguments:\n",
      "  -h, --help            show this help message and exit\n",
      "  --version             show program's version number and exit\n",
      "  -p PEP, --pep PEP     PEP configuration file in yaml format.\n",
      "  -s SCHEMA, --schema SCHEMA\n",
      "                        PEP schema file in yaml format.\n",
      "  -e, --exclude-case    Whether to exclude the validation case from an error.\n",
      "                        Only the human readable message explaining the error\n",
      "                        will be raised. Useful when validating large PEPs.\n",
      "  -n SAMPLE_NAME, --sample-name SAMPLE_NAME\n",
      "                        Name or index of the sample to validate. Only this\n",
      "                        sample will be validated.\n",
      "  -c, --just-config     Whether samples should be excluded from the\n",
      "                        validation.\n",
      "  --silent              Silence logging. Overrides verbosity.\n",
      "  --verbosity V         Set logging level (1-5 or logging module level name)\n",
      "  --logdev              Expand content of logging message format.\n",
      "\n",
      "http://eido.databio.org/\n"
     ]
    }
   ],
   "source": [
    "eido -h"
   ]
  }
 ],
 "metadata": {
  "kernelspec": {
   "display_name": "Bash",
   "language": "bash",
   "name": "bash"
  },
  "language_info": {
   "codemirror_mode": "shell",
   "file_extension": ".sh",
   "mimetype": "text/x-sh",
   "name": "bash"
  }
 },
 "nbformat": 4,
 "nbformat_minor": 2
}
