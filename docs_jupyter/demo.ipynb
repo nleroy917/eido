{
 "cells": [
  {
   "cell_type": "markdown",
   "metadata": {},
   "source": [
    "# Python API usage\n",
    "\n",
    "There are 3 `eido` functions in the public package interface:\n",
    "\n",
    "- `validate_project` to validate the entire PEP\n",
    "- `validate_sample` to validate only a selected sample\n",
    "- `validate_config` to validate only the config part of the PEP"
   ]
  },
  {
   "cell_type": "markdown",
   "metadata": {},
   "source": [
    "## Entire PEP validation"
   ]
  },
  {
   "cell_type": "code",
   "execution_count": 7,
   "metadata": {},
   "outputs": [],
   "source": [
    "from eido import *\n",
    "from peppy import Project"
   ]
  },
  {
   "cell_type": "markdown",
   "metadata": {},
   "source": [
    "Within Python the `validate_project` function can be used to perform the entire PEP validation. It requires `peppy.Project` object and either a path to the YAML schema file or a read schema (`dict`) as inputs."
   ]
  },
  {
   "cell_type": "code",
   "execution_count": 8,
   "metadata": {},
   "outputs": [],
   "source": [
    "p = Project(\"../tests/data/peps/test_cfg.yaml\")\n",
    "validate_project(project=p, schema=\"../tests/data/schemas/test_schema.yaml\")\n",
    "\n",
    "from eido.eido import _load_yaml\n",
    "s = _load_yaml(\"../tests/data/schemas/test_schema.yaml\")\n",
    "validate_project(project=p, schema=s)"
   ]
  },
  {
   "cell_type": "markdown",
   "metadata": {},
   "source": [
    "If a validation is successful, no message is printed. An unsuccessful one is signalized with a corresponding `jsonschema.exceptions.ValidationError`"
   ]
  },
  {
   "cell_type": "code",
   "execution_count": 9,
   "metadata": {},
   "outputs": [
    {
     "ename": "ValidationError",
     "evalue": "'invalid' is a required property\n\nFailed validating 'required' in schema:\n    {'description': 'test PEP schema',\n     'properties': {'_samples': {'items': {'properties': {'genome': {'type': 'string'},\n                                                          'protocol': {'type': 'string'},\n                                                          'sample_name': {'type': 'string'}},\n                                           'type': 'object'},\n                                 'type': 'array'},\n                    'dcc': {'properties': {'compute_packages': {'type': 'object'}},\n                            'type': 'object'},\n                    'invalid': {'type': 'string'}},\n     'required': ['dcc', '_samples', 'invalid']}\n\nOn instance:\n    {'_main_index_cols': 'sample_name',\n     '_sample_table':   sample_name protocol genome\n    0  GSM1558746      GRO   hg38\n    1  GSM1480327      PRO   hg38,\n     '_samples': [{'derived_cols_done': [],\n                   'genome': 'hg38',\n                   'merged': False,\n                   'merged_cols': PathExAttMap: {},\n                   'name': 'GSM1558746',\n                   'paths': Paths object.,\n                   'protocol': 'GRO',\n                   'required_paths': None,\n                   'results_subdir': '/Users/mstolarczyk/Uczelnia/UVA/code/eido/tests/data/peps/test/results_pipeline',\n                   'sample_name': 'GSM1558746',\n                   'sheet_attributes': ['sample_name',\n                                        'protocol',\n                                        'genome'],\n                   'yaml_file': None},\n                  {'derived_cols_done': [],\n                   'genome': 'hg38',\n                   'merged': False,\n                   'merged_cols': PathExAttMap: {},\n                   'name': 'GSM1480327',\n                   'paths': Paths object.,\n                   'protocol': 'PRO',\n                   'required_paths': None,\n                   'results_subdir': '/Users/mstolarczyk/Uczelnia/UVA/code/eido/tests/data/peps/test/results_pipeline',\n                   'sample_name': 'GSM1480327',\n                   'sheet_attributes': ['sample_name',\n                                        'protocol',\n                                        'genome'],\n                   'yaml_file': None}],\n     '_sections': {'name', 'metadata', 'implied_attributes'},\n     '_subproject': None,\n     '_subs_index_cols': ('sample_name', 'subsample_name'),\n     '_subsample_table': None,\n     'config_file': '/Users/mstolarczyk/Uczelnia/UVA/code/eido/tests/data/peps/test_cfg.yaml',\n     'constant_attributes': {},\n     'data_sources': None,\n     'dcc': {'_file_path': '/Users/mstolarczyk/Uczelnia/UVA/code/pepenv/uva_rivanna.yaml',\n             '_ro': True,\n             '_wait_time': 10,\n             'compute': {'partition': 'standard',\n                         'submission_command': 'sbatch',\n                         'submission_template': '/Users/mstolarczyk/Uczelnia/UVA/code/pepenv/templates/slurm_template.sub'},\n             'compute_packages': {'default': {'partition': 'standard',\n                                              'submission_command': 'sbatch',\n                                              'submission_template': 'templates/slurm_template.sub'},\n                                  'largemem': {'partition': 'largemem',\n                                               'submission_command': 'sbatch',\n                                               'submission_template': 'templates/slurm_template.sub'},\n                                  'local': {'submission_command': 'sh',\n                                            'submission_template': 'templates/localhost_template.sub'},\n                                  'parallel': {'partition': 'parallel',\n                                               'submission_command': 'sbatch',\n                                               'submission_template': 'templates/slurm_template.sub'},\n                                  'sigterm': {'partition': 'standard',\n                                              'submission_command': 'sbatch',\n                                              'submission_template': 'templates/slurm_sig_template.sub'},\n                                  'singularity_local': {'singularity_args': '-B '\n                                                                            '/ext:/ext',\n                                                        'submission_command': 'sh',\n                                                        'submission_template': 'templates/localhost_singularity_template.sub'},\n                                  'singularity_slurm': {'singularity_args': '-B '\n                                                                            '/sfs/lustre:/sfs/lustre,/nm/t1:/nm/t1',\n                                                        'submission_command': 'sbatch',\n                                                        'submission_template': 'templates/slurm_singularity_template.sub'}},\n             'config_file': '/Users/mstolarczyk/Uczelnia/UVA/code/pepenv/uva_rivanna.yaml'},\n     'derived_attributes': ['data_source'],\n     'file_checks': False,\n     'implied_attributes': {'organism': {'Homo sapiens': {'genome': 'hg38'}}},\n     'metadata': {'output_dir': '/Users/mstolarczyk/Uczelnia/UVA/code/eido/tests/data/peps/test',\n                  'pipeline_interfaces': [],\n                  'sample_table': '/Users/mstolarczyk/Uczelnia/UVA/code/eido/tests/data/peps/test_sample_table.csv'},\n     'name': 'test',\n     'permissive': True}",
     "output_type": "error",
     "traceback": [
      "\u001b[0;31m---------------------------------------------------------------------------\u001b[0m",
      "\u001b[0;31mValidationError\u001b[0m                           Traceback (most recent call last)",
      "\u001b[0;32m<ipython-input-9-29fa9395c52f>\u001b[0m in \u001b[0;36m<module>\u001b[0;34m\u001b[0m\n\u001b[0;32m----> 1\u001b[0;31m \u001b[0mvalidate_project\u001b[0m\u001b[0;34m(\u001b[0m\u001b[0mproject\u001b[0m\u001b[0;34m=\u001b[0m\u001b[0mp\u001b[0m\u001b[0;34m,\u001b[0m \u001b[0mschema\u001b[0m\u001b[0;34m=\u001b[0m\u001b[0;34m\"../tests/data/schemas/test_schema_invalid.yaml\"\u001b[0m\u001b[0;34m)\u001b[0m\u001b[0;34m\u001b[0m\u001b[0m\n\u001b[0m",
      "\u001b[0;32m/Library/Frameworks/Python.framework/Versions/3.6/lib/python3.6/site-packages/eido/eido.py\u001b[0m in \u001b[0;36mvalidate_project\u001b[0;34m(project, schema, exclude_case)\u001b[0m\n\u001b[1;32m    130\u001b[0m     \u001b[0mschema_dict\u001b[0m \u001b[0;34m=\u001b[0m \u001b[0m_read_schema\u001b[0m\u001b[0;34m(\u001b[0m\u001b[0mschema\u001b[0m\u001b[0;34m=\u001b[0m\u001b[0mschema\u001b[0m\u001b[0;34m)\u001b[0m\u001b[0;34m\u001b[0m\u001b[0m\n\u001b[1;32m    131\u001b[0m     \u001b[0mproject_dict\u001b[0m \u001b[0;34m=\u001b[0m \u001b[0mproject\u001b[0m\u001b[0;34m.\u001b[0m\u001b[0mto_dict\u001b[0m\u001b[0;34m(\u001b[0m\u001b[0;34m)\u001b[0m\u001b[0;34m\u001b[0m\u001b[0m\n\u001b[0;32m--> 132\u001b[0;31m     \u001b[0m_validate_object\u001b[0m\u001b[0;34m(\u001b[0m\u001b[0mproject_dict\u001b[0m\u001b[0;34m,\u001b[0m \u001b[0m_preprocess_schema\u001b[0m\u001b[0;34m(\u001b[0m\u001b[0mschema_dict\u001b[0m\u001b[0;34m)\u001b[0m\u001b[0;34m,\u001b[0m \u001b[0mexclude_case\u001b[0m\u001b[0;34m)\u001b[0m\u001b[0;34m\u001b[0m\u001b[0m\n\u001b[0m\u001b[1;32m    133\u001b[0m     \u001b[0m_LOGGER\u001b[0m\u001b[0;34m.\u001b[0m\u001b[0mdebug\u001b[0m\u001b[0;34m(\u001b[0m\u001b[0;34m\"Project validation successful\"\u001b[0m\u001b[0;34m)\u001b[0m\u001b[0;34m\u001b[0m\u001b[0m\n\u001b[1;32m    134\u001b[0m \u001b[0;34m\u001b[0m\u001b[0m\n",
      "\u001b[0;32m/Library/Frameworks/Python.framework/Versions/3.6/lib/python3.6/site-packages/eido/eido.py\u001b[0m in \u001b[0;36m_validate_object\u001b[0;34m(object, schema, exclude_case)\u001b[0m\n\u001b[1;32m    115\u001b[0m     \u001b[0;32mexcept\u001b[0m \u001b[0mjsonschema\u001b[0m\u001b[0;34m.\u001b[0m\u001b[0mexceptions\u001b[0m\u001b[0;34m.\u001b[0m\u001b[0mValidationError\u001b[0m \u001b[0;32mas\u001b[0m \u001b[0me\u001b[0m\u001b[0;34m:\u001b[0m\u001b[0;34m\u001b[0m\u001b[0m\n\u001b[1;32m    116\u001b[0m         \u001b[0;32mif\u001b[0m \u001b[0;32mnot\u001b[0m \u001b[0mexclude_case\u001b[0m\u001b[0;34m:\u001b[0m\u001b[0;34m\u001b[0m\u001b[0m\n\u001b[0;32m--> 117\u001b[0;31m             \u001b[0;32mraise\u001b[0m \u001b[0me\u001b[0m\u001b[0;34m\u001b[0m\u001b[0m\n\u001b[0m\u001b[1;32m    118\u001b[0m         \u001b[0;32mraise\u001b[0m \u001b[0mjsonschema\u001b[0m\u001b[0;34m.\u001b[0m\u001b[0mexceptions\u001b[0m\u001b[0;34m.\u001b[0m\u001b[0mValidationError\u001b[0m\u001b[0;34m(\u001b[0m\u001b[0me\u001b[0m\u001b[0;34m.\u001b[0m\u001b[0mmessage\u001b[0m\u001b[0;34m)\u001b[0m\u001b[0;34m\u001b[0m\u001b[0m\n\u001b[1;32m    119\u001b[0m \u001b[0;34m\u001b[0m\u001b[0m\n",
      "\u001b[0;32m/Library/Frameworks/Python.framework/Versions/3.6/lib/python3.6/site-packages/eido/eido.py\u001b[0m in \u001b[0;36m_validate_object\u001b[0;34m(object, schema, exclude_case)\u001b[0m\n\u001b[1;32m    112\u001b[0m     \"\"\"\n\u001b[1;32m    113\u001b[0m     \u001b[0;32mtry\u001b[0m\u001b[0;34m:\u001b[0m\u001b[0;34m\u001b[0m\u001b[0m\n\u001b[0;32m--> 114\u001b[0;31m         \u001b[0mjsonschema\u001b[0m\u001b[0;34m.\u001b[0m\u001b[0mvalidate\u001b[0m\u001b[0;34m(\u001b[0m\u001b[0mobject\u001b[0m\u001b[0;34m,\u001b[0m \u001b[0mschema\u001b[0m\u001b[0;34m)\u001b[0m\u001b[0;34m\u001b[0m\u001b[0m\n\u001b[0m\u001b[1;32m    115\u001b[0m     \u001b[0;32mexcept\u001b[0m \u001b[0mjsonschema\u001b[0m\u001b[0;34m.\u001b[0m\u001b[0mexceptions\u001b[0m\u001b[0;34m.\u001b[0m\u001b[0mValidationError\u001b[0m \u001b[0;32mas\u001b[0m \u001b[0me\u001b[0m\u001b[0;34m:\u001b[0m\u001b[0;34m\u001b[0m\u001b[0m\n\u001b[1;32m    116\u001b[0m         \u001b[0;32mif\u001b[0m \u001b[0;32mnot\u001b[0m \u001b[0mexclude_case\u001b[0m\u001b[0;34m:\u001b[0m\u001b[0;34m\u001b[0m\u001b[0m\n",
      "\u001b[0;32m~/Library/Python/3.6/lib/python/site-packages/jsonschema/validators.py\u001b[0m in \u001b[0;36mvalidate\u001b[0;34m(instance, schema, cls, *args, **kwargs)\u001b[0m\n\u001b[1;32m    897\u001b[0m     \u001b[0merror\u001b[0m \u001b[0;34m=\u001b[0m \u001b[0mexceptions\u001b[0m\u001b[0;34m.\u001b[0m\u001b[0mbest_match\u001b[0m\u001b[0;34m(\u001b[0m\u001b[0mvalidator\u001b[0m\u001b[0;34m.\u001b[0m\u001b[0miter_errors\u001b[0m\u001b[0;34m(\u001b[0m\u001b[0minstance\u001b[0m\u001b[0;34m)\u001b[0m\u001b[0;34m)\u001b[0m\u001b[0;34m\u001b[0m\u001b[0m\n\u001b[1;32m    898\u001b[0m     \u001b[0;32mif\u001b[0m \u001b[0merror\u001b[0m \u001b[0;32mis\u001b[0m \u001b[0;32mnot\u001b[0m \u001b[0;32mNone\u001b[0m\u001b[0;34m:\u001b[0m\u001b[0;34m\u001b[0m\u001b[0m\n\u001b[0;32m--> 899\u001b[0;31m         \u001b[0;32mraise\u001b[0m \u001b[0merror\u001b[0m\u001b[0;34m\u001b[0m\u001b[0m\n\u001b[0m\u001b[1;32m    900\u001b[0m \u001b[0;34m\u001b[0m\u001b[0m\n\u001b[1;32m    901\u001b[0m \u001b[0;34m\u001b[0m\u001b[0m\n",
      "\u001b[0;31mValidationError\u001b[0m: 'invalid' is a required property\n\nFailed validating 'required' in schema:\n    {'description': 'test PEP schema',\n     'properties': {'_samples': {'items': {'properties': {'genome': {'type': 'string'},\n                                                          'protocol': {'type': 'string'},\n                                                          'sample_name': {'type': 'string'}},\n                                           'type': 'object'},\n                                 'type': 'array'},\n                    'dcc': {'properties': {'compute_packages': {'type': 'object'}},\n                            'type': 'object'},\n                    'invalid': {'type': 'string'}},\n     'required': ['dcc', '_samples', 'invalid']}\n\nOn instance:\n    {'_main_index_cols': 'sample_name',\n     '_sample_table':   sample_name protocol genome\n    0  GSM1558746      GRO   hg38\n    1  GSM1480327      PRO   hg38,\n     '_samples': [{'derived_cols_done': [],\n                   'genome': 'hg38',\n                   'merged': False,\n                   'merged_cols': PathExAttMap: {},\n                   'name': 'GSM1558746',\n                   'paths': Paths object.,\n                   'protocol': 'GRO',\n                   'required_paths': None,\n                   'results_subdir': '/Users/mstolarczyk/Uczelnia/UVA/code/eido/tests/data/peps/test/results_pipeline',\n                   'sample_name': 'GSM1558746',\n                   'sheet_attributes': ['sample_name',\n                                        'protocol',\n                                        'genome'],\n                   'yaml_file': None},\n                  {'derived_cols_done': [],\n                   'genome': 'hg38',\n                   'merged': False,\n                   'merged_cols': PathExAttMap: {},\n                   'name': 'GSM1480327',\n                   'paths': Paths object.,\n                   'protocol': 'PRO',\n                   'required_paths': None,\n                   'results_subdir': '/Users/mstolarczyk/Uczelnia/UVA/code/eido/tests/data/peps/test/results_pipeline',\n                   'sample_name': 'GSM1480327',\n                   'sheet_attributes': ['sample_name',\n                                        'protocol',\n                                        'genome'],\n                   'yaml_file': None}],\n     '_sections': {'name', 'metadata', 'implied_attributes'},\n     '_subproject': None,\n     '_subs_index_cols': ('sample_name', 'subsample_name'),\n     '_subsample_table': None,\n     'config_file': '/Users/mstolarczyk/Uczelnia/UVA/code/eido/tests/data/peps/test_cfg.yaml',\n     'constant_attributes': {},\n     'data_sources': None,\n     'dcc': {'_file_path': '/Users/mstolarczyk/Uczelnia/UVA/code/pepenv/uva_rivanna.yaml',\n             '_ro': True,\n             '_wait_time': 10,\n             'compute': {'partition': 'standard',\n                         'submission_command': 'sbatch',\n                         'submission_template': '/Users/mstolarczyk/Uczelnia/UVA/code/pepenv/templates/slurm_template.sub'},\n             'compute_packages': {'default': {'partition': 'standard',\n                                              'submission_command': 'sbatch',\n                                              'submission_template': 'templates/slurm_template.sub'},\n                                  'largemem': {'partition': 'largemem',\n                                               'submission_command': 'sbatch',\n                                               'submission_template': 'templates/slurm_template.sub'},\n                                  'local': {'submission_command': 'sh',\n                                            'submission_template': 'templates/localhost_template.sub'},\n                                  'parallel': {'partition': 'parallel',\n                                               'submission_command': 'sbatch',\n                                               'submission_template': 'templates/slurm_template.sub'},\n                                  'sigterm': {'partition': 'standard',\n                                              'submission_command': 'sbatch',\n                                              'submission_template': 'templates/slurm_sig_template.sub'},\n                                  'singularity_local': {'singularity_args': '-B '\n                                                                            '/ext:/ext',\n                                                        'submission_command': 'sh',\n                                                        'submission_template': 'templates/localhost_singularity_template.sub'},\n                                  'singularity_slurm': {'singularity_args': '-B '\n                                                                            '/sfs/lustre:/sfs/lustre,/nm/t1:/nm/t1',\n                                                        'submission_command': 'sbatch',\n                                                        'submission_template': 'templates/slurm_singularity_template.sub'}},\n             'config_file': '/Users/mstolarczyk/Uczelnia/UVA/code/pepenv/uva_rivanna.yaml'},\n     'derived_attributes': ['data_source'],\n     'file_checks': False,\n     'implied_attributes': {'organism': {'Homo sapiens': {'genome': 'hg38'}}},\n     'metadata': {'output_dir': '/Users/mstolarczyk/Uczelnia/UVA/code/eido/tests/data/peps/test',\n                  'pipeline_interfaces': [],\n                  'sample_table': '/Users/mstolarczyk/Uczelnia/UVA/code/eido/tests/data/peps/test_sample_table.csv'},\n     'name': 'test',\n     'permissive': True}"
     ]
    }
   ],
   "source": [
    "validate_project(project=p, schema=\"../tests/data/schemas/test_schema_invalid.yaml\")"
   ]
  },
  {
   "cell_type": "markdown",
   "metadata": {},
   "source": [
    "## Config validation"
   ]
  },
  {
   "cell_type": "markdown",
   "metadata": {},
   "source": [
    "Similarily, the config part of the PEP can be validated; the function inputs remain the same"
   ]
  },
  {
   "cell_type": "code",
   "execution_count": 10,
   "metadata": {},
   "outputs": [],
   "source": [
    "validate_config(project=p, schema=\"../tests/data/schemas/test_schema.yaml\")"
   ]
  },
  {
   "cell_type": "markdown",
   "metadata": {},
   "source": [
    "## Sample validation"
   ]
  },
  {
   "cell_type": "markdown",
   "metadata": {},
   "source": [
    "To validate a specific `peppy.Sample` object within a PEP, one needs to also specify the `sample_name` argument which can be the `peppy.Sample.name` attribute (`str`) or the ID of the sample (`int`)"
   ]
  },
  {
   "cell_type": "code",
   "execution_count": 11,
   "metadata": {},
   "outputs": [],
   "source": [
    "validate_sample(project=p, schema=\"../tests/data/schemas/test_schema.yaml\", sample_name=0)"
   ]
  },
  {
   "cell_type": "markdown",
   "metadata": {},
   "source": [
    "## Output details\n",
    "\n",
    "As depicted above the error raised by the `jsonschema` package is very detailed. That's because the entire validated PEP is printed out for the user reference. Since it can get overwhelming in case of the multi sample PEPs each of the `eido` functions presented above privide a way to limit the output to just the general information indicating the unmet schema requirements"
   ]
  },
  {
   "cell_type": "code",
   "execution_count": 12,
   "metadata": {},
   "outputs": [
    {
     "ename": "ValidationError",
     "evalue": "'invalid' is a required property",
     "output_type": "error",
     "traceback": [
      "\u001b[0;31m---------------------------------------------------------------------------\u001b[0m",
      "\u001b[0;31mValidationError\u001b[0m                           Traceback (most recent call last)",
      "\u001b[0;32m<ipython-input-12-af7d16ab2ae8>\u001b[0m in \u001b[0;36m<module>\u001b[0;34m\u001b[0m\n\u001b[0;32m----> 1\u001b[0;31m \u001b[0mvalidate_project\u001b[0m\u001b[0;34m(\u001b[0m\u001b[0mproject\u001b[0m\u001b[0;34m=\u001b[0m\u001b[0mp\u001b[0m\u001b[0;34m,\u001b[0m \u001b[0mschema\u001b[0m\u001b[0;34m=\u001b[0m\u001b[0;34m\"../tests/data/schemas/test_schema_invalid.yaml\"\u001b[0m\u001b[0;34m,\u001b[0m \u001b[0mexclude_case\u001b[0m\u001b[0;34m=\u001b[0m\u001b[0;32mTrue\u001b[0m\u001b[0;34m)\u001b[0m\u001b[0;34m\u001b[0m\u001b[0m\n\u001b[0m",
      "\u001b[0;32m/Library/Frameworks/Python.framework/Versions/3.6/lib/python3.6/site-packages/eido/eido.py\u001b[0m in \u001b[0;36mvalidate_project\u001b[0;34m(project, schema, exclude_case)\u001b[0m\n\u001b[1;32m    130\u001b[0m     \u001b[0mschema_dict\u001b[0m \u001b[0;34m=\u001b[0m \u001b[0m_read_schema\u001b[0m\u001b[0;34m(\u001b[0m\u001b[0mschema\u001b[0m\u001b[0;34m=\u001b[0m\u001b[0mschema\u001b[0m\u001b[0;34m)\u001b[0m\u001b[0;34m\u001b[0m\u001b[0m\n\u001b[1;32m    131\u001b[0m     \u001b[0mproject_dict\u001b[0m \u001b[0;34m=\u001b[0m \u001b[0mproject\u001b[0m\u001b[0;34m.\u001b[0m\u001b[0mto_dict\u001b[0m\u001b[0;34m(\u001b[0m\u001b[0;34m)\u001b[0m\u001b[0;34m\u001b[0m\u001b[0m\n\u001b[0;32m--> 132\u001b[0;31m     \u001b[0m_validate_object\u001b[0m\u001b[0;34m(\u001b[0m\u001b[0mproject_dict\u001b[0m\u001b[0;34m,\u001b[0m \u001b[0m_preprocess_schema\u001b[0m\u001b[0;34m(\u001b[0m\u001b[0mschema_dict\u001b[0m\u001b[0;34m)\u001b[0m\u001b[0;34m,\u001b[0m \u001b[0mexclude_case\u001b[0m\u001b[0;34m)\u001b[0m\u001b[0;34m\u001b[0m\u001b[0m\n\u001b[0m\u001b[1;32m    133\u001b[0m     \u001b[0m_LOGGER\u001b[0m\u001b[0;34m.\u001b[0m\u001b[0mdebug\u001b[0m\u001b[0;34m(\u001b[0m\u001b[0;34m\"Project validation successful\"\u001b[0m\u001b[0;34m)\u001b[0m\u001b[0;34m\u001b[0m\u001b[0m\n\u001b[1;32m    134\u001b[0m \u001b[0;34m\u001b[0m\u001b[0m\n",
      "\u001b[0;32m/Library/Frameworks/Python.framework/Versions/3.6/lib/python3.6/site-packages/eido/eido.py\u001b[0m in \u001b[0;36m_validate_object\u001b[0;34m(object, schema, exclude_case)\u001b[0m\n\u001b[1;32m    116\u001b[0m         \u001b[0;32mif\u001b[0m \u001b[0;32mnot\u001b[0m \u001b[0mexclude_case\u001b[0m\u001b[0;34m:\u001b[0m\u001b[0;34m\u001b[0m\u001b[0m\n\u001b[1;32m    117\u001b[0m             \u001b[0;32mraise\u001b[0m \u001b[0me\u001b[0m\u001b[0;34m\u001b[0m\u001b[0m\n\u001b[0;32m--> 118\u001b[0;31m         \u001b[0;32mraise\u001b[0m \u001b[0mjsonschema\u001b[0m\u001b[0;34m.\u001b[0m\u001b[0mexceptions\u001b[0m\u001b[0;34m.\u001b[0m\u001b[0mValidationError\u001b[0m\u001b[0;34m(\u001b[0m\u001b[0me\u001b[0m\u001b[0;34m.\u001b[0m\u001b[0mmessage\u001b[0m\u001b[0;34m)\u001b[0m\u001b[0;34m\u001b[0m\u001b[0m\n\u001b[0m\u001b[1;32m    119\u001b[0m \u001b[0;34m\u001b[0m\u001b[0m\n\u001b[1;32m    120\u001b[0m \u001b[0;34m\u001b[0m\u001b[0m\n",
      "\u001b[0;31mValidationError\u001b[0m: 'invalid' is a required property"
     ]
    }
   ],
   "source": [
    "validate_project(project=p, schema=\"../tests/data/schemas/test_schema_invalid.yaml\", exclude_case=True)"
   ]
  },
  {
   "cell_type": "code",
   "execution_count": null,
   "metadata": {},
   "outputs": [],
   "source": []
  }
 ],
 "metadata": {
  "kernelspec": {
   "display_name": "Python 3",
   "language": "python",
   "name": "python3"
  },
  "language_info": {
   "codemirror_mode": {
    "name": "ipython",
    "version": 3
   },
   "file_extension": ".py",
   "mimetype": "text/x-python",
   "name": "python",
   "nbconvert_exporter": "python",
   "pygments_lexer": "ipython3",
   "version": "3.6.5"
  }
 },
 "nbformat": 4,
 "nbformat_minor": 2
}
