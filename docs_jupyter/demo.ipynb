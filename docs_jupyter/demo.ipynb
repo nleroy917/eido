{
 "cells": [
  {
   "cell_type": "markdown",
   "metadata": {},
   "source": [
    "# Python API usage\n",
    "\n",
    "There are 3 validation functions in the public `eido` package interface:\n",
    "\n",
    "- `validate_project` to validate the entire PEP\n",
    "- `validate_sample` to validate only a selected sample\n",
    "- `validate_config` to validate only the config part of the PEP\n",
    "\n",
    "Additionally there is a `read_schema` function that lets you read the schema."
   ]
  },
  {
   "cell_type": "markdown",
   "metadata": {},
   "source": [
    "## Schema reading\n",
    "\n",
    "As noted above `read_schema` function can be used to read a YAML-formatted schema to Python. Depending on the class of the argument used, it will get a remote schema (argument is a URL) or will read one from disk (argument is a path)."
   ]
  },
  {
   "cell_type": "markdown",
   "metadata": {},
   "source": [
    "### Remote"
   ]
  },
  {
   "cell_type": "code",
   "execution_count": 1,
   "metadata": {},
   "outputs": [
    {
     "data": {
      "text/plain": [
       "[{'description': 'Schema for a minimal PEP',\n",
       "  'version': '2.0.0',\n",
       "  'properties': {'config': {'pep_version': {'description': 'Version of the PEP Schema this PEP follows',\n",
       "     'type': 'string'},\n",
       "    'sample_table': {'type': 'string',\n",
       "     'description': 'Path to the sample annotation table with one row per sample'},\n",
       "    'subsample_table': {'type': 'string',\n",
       "     'description': 'Path to the subsample annotation table with one row per subsample and sample_name attribute matching an entry in the sample table'},\n",
       "    'sample_modifiers': {'type': 'object',\n",
       "     'properties': {'append': {'type': 'object'},\n",
       "      'duplicate': {'type': 'object'},\n",
       "      'imply': {'type': 'array',\n",
       "       'items': {'type': 'object',\n",
       "        'properties': {'if': {'type': 'object'}, 'then': {'type': 'object'}}}},\n",
       "      'derive': {'type': 'object',\n",
       "       'properties': {'attributes': {'type': 'array',\n",
       "         'items': {'type': 'string'}},\n",
       "        'sources': {'type': 'object'}}}}},\n",
       "    'amendments': {'description': 'Object overwriting original project attributes',\n",
       "     'type': 'object'},\n",
       "    'imports': {'description': 'List of external PEP project config files to import',\n",
       "     'type': 'array',\n",
       "     'items': {'type': 'string'}},\n",
       "    'required': ['pep_version']},\n",
       "   'samples': {'type': 'array',\n",
       "    'items': {'type': 'object',\n",
       "     'properties': {'sample_name': {'type': 'string',\n",
       "       'pattern': '^\\\\S*$',\n",
       "       'description': 'Unique name of the sample with no whitespace'}},\n",
       "     'required': ['sample_name']}}},\n",
       "  'required': ['samples']}]"
      ]
     },
     "execution_count": 1,
     "metadata": {},
     "output_type": "execute_result"
    }
   ],
   "source": [
    "from eido import *\n",
    "read_schema(\"https://schema.databio.org/pep/2.0.0.yaml\")"
   ]
  },
  {
   "cell_type": "markdown",
   "metadata": {},
   "source": [
    "With this simple call the PEP2.0.0 schema was downloaded from a remote file server and read into a `dict` object in Python."
   ]
  },
  {
   "cell_type": "markdown",
   "metadata": {},
   "source": [
    "### Local"
   ]
  },
  {
   "cell_type": "code",
   "execution_count": 2,
   "metadata": {},
   "outputs": [
    {
     "data": {
      "text/plain": [
       "[{'description': 'test PEP schema',\n",
       "  'properties': {'dcc': {'type': 'object',\n",
       "    'properties': {'compute_packages': {'type': 'object'}}},\n",
       "   'samples': {'type': 'array',\n",
       "    'items': {'type': 'object',\n",
       "     'properties': {'sample_name': {'type': 'string'},\n",
       "      'protocol': {'type': 'string'},\n",
       "      'genome': {'type': 'string'}}}}},\n",
       "  'required': ['samples']}]"
      ]
     },
     "execution_count": 2,
     "metadata": {},
     "output_type": "execute_result"
    }
   ],
   "source": [
    "read_schema(\"../tests/data/schemas/test_schema.yaml\")"
   ]
  },
  {
   "cell_type": "markdown",
   "metadata": {},
   "source": [
    "This time the schema was read from disk."
   ]
  },
  {
   "cell_type": "markdown",
   "metadata": {},
   "source": [
    "## Schema imports\n",
    "\n",
    "`eido` lets you import schemas. Schema importing is a very powerful tool to make a cascading system of schemas that will keep the individual building blocks clear and simple.\n",
    "\n",
    "To import a schema from within a schema one just needs to use an `imports` section somewhere in the schema. The section has to be a YAML list, for example:\n",
    "\n",
    "```yaml\n",
    "imports:\n",
    "    - ../tests/data/schemas/test_schema.yaml\n",
    "    - https://schema.databio.org/pep/2.0.0.yaml\n",
    "```\n",
    "\n",
    "or \n",
    "\n",
    "```yaml\n",
    "imports: [../tests/data/schemas/test_schema.yaml, https://schema.databio.org/pep/2.0.0.yaml]\n",
    "```\n",
    "\n",
    "This functionality is particularly useful when one wants to restrict an object that already has a remote schema defined for. For example, to restrict the type of one more sample attribute in a `Project` object (defined by PEP2.0.0 schema).\n",
    "\n",
    "```yaml\n",
    "imports:\n",
    "    - https://schema.databio.org/pep/2.0.0.yaml\n",
    "description: \"Schema for a more restrictive PEP\"\n",
    "  samples:\n",
    "    type: array\n",
    "    items:\n",
    "      type: object\n",
    "      properties:\n",
    "        my_numeric_attribute: \n",
    "          type: integer\n",
    "          minimum: 0\n",
    "          maximum: 1\n",
    "      required:\n",
    "        - my_numeric_attribute\n",
    "required:\n",
    "  - samples\n",
    "```\n",
    "\n",
    "PEPs to succesfully validate against this schema will need to fulfill all the generic PEP2.0.0 schema requirements _and_ fulfill the new `my_numeric_attribute` requirement.\n",
    "\n",
    "### How importing works\n",
    "\n",
    "The output of the `read_schema` function is always a `list` object. In case there are no imports in the read schema it's just a `list` of length 1. \n",
    "\n",
    "If there are import statements the `list` length reflects the number of schemas imported. Please note that the schemas can be imported recursively, which means that an imported schema can import more schemas. \n",
    "\n",
    "**The order of the output list is meaningful:**\n",
    "\n",
    "1. It reflects the order of importing in the \"schema dependency chain\"; the schema used in the `read_schema` call is always last in the output list.\n",
    "2. It reflects the order of enumerating schemas in the `imports` section; the order is preserved\n",
    "\n",
    "This in turn implies the order of the validation in the functions described in detail below."
   ]
  },
  {
   "cell_type": "markdown",
   "metadata": {},
   "source": [
    "## Entire PEP validation"
   ]
  },
  {
   "cell_type": "code",
   "execution_count": 3,
   "metadata": {},
   "outputs": [],
   "source": [
    "from peppy import Project"
   ]
  },
  {
   "cell_type": "markdown",
   "metadata": {},
   "source": [
    "Within Python the `validate_project` function can be used to perform the entire PEP validation. It requires `peppy.Project` object and either a path to the YAML schema file or a read schema (`dict`) as inputs."
   ]
  },
  {
   "cell_type": "code",
   "execution_count": 4,
   "metadata": {},
   "outputs": [],
   "source": [
    "p = Project(\"../tests/data/peps/test_cfg.yaml\")\n",
    "validate_project(project=p, schema=\"../tests/data/schemas/test_schema.yaml\")\n",
    "\n",
    "from eido.eido import _load_yaml\n",
    "s = _load_yaml(\"../tests/data/schemas/test_schema.yaml\")\n",
    "validate_project(project=p, schema=s)"
   ]
  },
  {
   "cell_type": "markdown",
   "metadata": {},
   "source": [
    "If a validation is successful, no message is printed. An unsuccessful one is signalized with a corresponding `jsonschema.exceptions.ValidationError`"
   ]
  },
  {
   "cell_type": "code",
   "execution_count": 5,
   "metadata": {},
   "outputs": [
    {
     "ename": "ValidationError",
     "evalue": "'invalid' is a required property\n\nFailed validating 'required' in schema:\n    {'description': 'test PEP schema',\n     'properties': {'_samples': {'items': {'properties': {'genome': {'anyOf': [{'type': 'string'},\n                                                                               {'items': {'type': 'string'},\n                                                                                'type': 'array'}]},\n                                                          'protocol': {'anyOf': [{'type': 'string'},\n                                                                                 {'items': {'type': 'string'},\n                                                                                  'type': 'array'}]},\n                                                          'sample_name': {'anyOf': [{'type': 'string'},\n                                                                                    {'items': {'type': 'string'},\n                                                                                     'type': 'array'}]}},\n                                           'type': 'object'},\n                                 'type': 'array'},\n                    'dcc': {'properties': {'compute_packages': {'type': 'object'}},\n                            'type': 'object'},\n                    'invalid': {'type': 'string'}},\n     'required': ['_samples', 'invalid']}\n\nOn instance:\n    {'_config': {'name': 'test',\n                 'output_dir': 'test',\n                 'pep_version': '2.0.0',\n                 'sample_modifiers': {'append': {'organism': {'Homo sapiens': {'genome': 'hg38'}}}},\n                 'sample_table': '/Users/mstolarczyk/Uczelnia/UVA/code/eido/tests/data/peps/test_sample_table.csv'},\n     '_config_file': '/Users/mstolarczyk/Uczelnia/UVA/code/eido/tests/data/peps/test_cfg.yaml',\n     '_sample_df':   sample_name protocol genome\n    0  GSM1558746      GRO   hg38\n    1  GSM1480327      PRO   hg38,\n     '_sample_table':             genome                              organism protocol sample_name\n    sample_name                                                                  \n    GSM1558746    hg38  {'Homo sapiens': {'genome': 'hg38'}}      GRO  GSM1558746\n    GSM1480327    hg38  {'Homo sapiens': {'genome': 'hg38'}}      PRO  GSM1480327,\n     '_samples': [{'_attributes': ['sample_name', 'protocol', 'genome'],\n                   '_derived_cols_done': [],\n                   '_project': {'_config': {'name': 'test',\n                                            'output_dir': 'test',\n                                            'pep_version': '2.0.0',\n                                            'sample_modifiers': {'append': {'organism': {'Homo sapiens': {'genome': 'hg38'}}}},\n                                            'sample_table': '/Users/mstolarczyk/Uczelnia/UVA/code/eido/tests/data/peps/test_sample_table.csv'},\n                                '_config_file': '/Users/mstolarczyk/Uczelnia/UVA/code/eido/tests/data/peps/test_cfg.yaml',\n                                '_sample_df':   sample_name protocol genome\n    0  GSM1558746      GRO   hg38\n    1  GSM1480327      PRO   hg38,\n                                '_sample_table':             genome                              organism protocol sample_name\n    sample_name                                                                  \n    GSM1558746    hg38  {'Homo sapiens': {'genome': 'hg38'}}      GRO  GSM1558746\n    GSM1480327    hg38  {'Homo sapiens': {'genome': 'hg38'}}      PRO  GSM1480327,\n                                '_samples': <Recursion on list with id=4511272456>,\n                                '_samples_touched': False,\n                                '_subsample_df': None,\n                                'name': 'test',\n                                'sst_index': ['sample_name',\n                                              'subsample_name'],\n                                'st_index': 'sample_name'},\n                   'genome': 'hg38',\n                   'organism': PathExAttMap\n    Homo sapiens:\n      genome: hg38,\n                   'protocol': 'GRO',\n                   'sample_name': 'GSM1558746'},\n                  {'_attributes': ['sample_name', 'protocol', 'genome'],\n                   '_derived_cols_done': [],\n                   '_project': {'_config': {'name': 'test',\n                                            'output_dir': 'test',\n                                            'pep_version': '2.0.0',\n                                            'sample_modifiers': {'append': {'organism': {'Homo sapiens': {'genome': 'hg38'}}}},\n                                            'sample_table': '/Users/mstolarczyk/Uczelnia/UVA/code/eido/tests/data/peps/test_sample_table.csv'},\n                                '_config_file': '/Users/mstolarczyk/Uczelnia/UVA/code/eido/tests/data/peps/test_cfg.yaml',\n                                '_sample_df':   sample_name protocol genome\n    0  GSM1558746      GRO   hg38\n    1  GSM1480327      PRO   hg38,\n                                '_sample_table':             genome                              organism protocol sample_name\n    sample_name                                                                  \n    GSM1558746    hg38  {'Homo sapiens': {'genome': 'hg38'}}      GRO  GSM1558746\n    GSM1480327    hg38  {'Homo sapiens': {'genome': 'hg38'}}      PRO  GSM1480327,\n                                '_samples': <Recursion on list with id=4511272456>,\n                                '_samples_touched': False,\n                                '_subsample_df': None,\n                                'name': 'test',\n                                'sst_index': ['sample_name',\n                                              'subsample_name'],\n                                'st_index': 'sample_name'},\n                   'genome': 'hg38',\n                   'organism': PathExAttMap\n    Homo sapiens:\n      genome: hg38,\n                   'protocol': 'PRO',\n                   'sample_name': 'GSM1480327'}],\n     '_samples_touched': False,\n     '_subsample_df': None,\n     'name': 'test',\n     'sst_index': ['sample_name', 'subsample_name'],\n     'st_index': 'sample_name'}",
     "output_type": "error",
     "traceback": [
      "\u001b[0;31m---------------------------------------------------------------------------\u001b[0m",
      "\u001b[0;31mValidationError\u001b[0m                           Traceback (most recent call last)",
      "\u001b[0;32m<ipython-input-5-29fa9395c52f>\u001b[0m in \u001b[0;36m<module>\u001b[0;34m\u001b[0m\n\u001b[0;32m----> 1\u001b[0;31m \u001b[0mvalidate_project\u001b[0m\u001b[0;34m(\u001b[0m\u001b[0mproject\u001b[0m\u001b[0;34m=\u001b[0m\u001b[0mp\u001b[0m\u001b[0;34m,\u001b[0m \u001b[0mschema\u001b[0m\u001b[0;34m=\u001b[0m\u001b[0;34m\"../tests/data/schemas/test_schema_invalid.yaml\"\u001b[0m\u001b[0;34m)\u001b[0m\u001b[0;34m\u001b[0m\u001b[0m\n\u001b[0m",
      "\u001b[0;32m/Library/Frameworks/Python.framework/Versions/3.6/lib/python3.6/site-packages/eido/eido.py\u001b[0m in \u001b[0;36mvalidate_project\u001b[0;34m(project, schema, exclude_case)\u001b[0m\n\u001b[1;32m    169\u001b[0m         \u001b[0mproject_dict\u001b[0m \u001b[0;34m=\u001b[0m \u001b[0mproject\u001b[0m\u001b[0;34m.\u001b[0m\u001b[0mto_dict\u001b[0m\u001b[0;34m(\u001b[0m\u001b[0;34m)\u001b[0m\u001b[0;34m\u001b[0m\u001b[0m\n\u001b[1;32m    170\u001b[0m         _validate_object(project_dict, _preprocess_schema(schema_dict),\n\u001b[0;32m--> 171\u001b[0;31m                          exclude_case)\n\u001b[0m\u001b[1;32m    172\u001b[0m         \u001b[0m_LOGGER\u001b[0m\u001b[0;34m.\u001b[0m\u001b[0mdebug\u001b[0m\u001b[0;34m(\u001b[0m\u001b[0;34m\"Project validation successful\"\u001b[0m\u001b[0;34m)\u001b[0m\u001b[0;34m\u001b[0m\u001b[0m\n\u001b[1;32m    173\u001b[0m \u001b[0;34m\u001b[0m\u001b[0m\n",
      "\u001b[0;32m/Library/Frameworks/Python.framework/Versions/3.6/lib/python3.6/site-packages/eido/eido.py\u001b[0m in \u001b[0;36m_validate_object\u001b[0;34m(object, schema, exclude_case)\u001b[0m\n\u001b[1;32m    149\u001b[0m     \"\"\"\n\u001b[1;32m    150\u001b[0m     \u001b[0;32mtry\u001b[0m\u001b[0;34m:\u001b[0m\u001b[0;34m\u001b[0m\u001b[0m\n\u001b[0;32m--> 151\u001b[0;31m         \u001b[0mjsonschema\u001b[0m\u001b[0;34m.\u001b[0m\u001b[0mvalidate\u001b[0m\u001b[0;34m(\u001b[0m\u001b[0mobject\u001b[0m\u001b[0;34m,\u001b[0m \u001b[0mschema\u001b[0m\u001b[0;34m)\u001b[0m\u001b[0;34m\u001b[0m\u001b[0m\n\u001b[0m\u001b[1;32m    152\u001b[0m     \u001b[0;32mexcept\u001b[0m \u001b[0mjsonschema\u001b[0m\u001b[0;34m.\u001b[0m\u001b[0mexceptions\u001b[0m\u001b[0;34m.\u001b[0m\u001b[0mValidationError\u001b[0m \u001b[0;32mas\u001b[0m \u001b[0me\u001b[0m\u001b[0;34m:\u001b[0m\u001b[0;34m\u001b[0m\u001b[0m\n\u001b[1;32m    153\u001b[0m         \u001b[0;32mif\u001b[0m \u001b[0;32mnot\u001b[0m \u001b[0mexclude_case\u001b[0m\u001b[0;34m:\u001b[0m\u001b[0;34m\u001b[0m\u001b[0m\n",
      "\u001b[0;32m~/Library/Python/3.6/lib/python/site-packages/jsonschema/validators.py\u001b[0m in \u001b[0;36mvalidate\u001b[0;34m(instance, schema, cls, *args, **kwargs)\u001b[0m\n\u001b[1;32m    897\u001b[0m     \u001b[0merror\u001b[0m \u001b[0;34m=\u001b[0m \u001b[0mexceptions\u001b[0m\u001b[0;34m.\u001b[0m\u001b[0mbest_match\u001b[0m\u001b[0;34m(\u001b[0m\u001b[0mvalidator\u001b[0m\u001b[0;34m.\u001b[0m\u001b[0miter_errors\u001b[0m\u001b[0;34m(\u001b[0m\u001b[0minstance\u001b[0m\u001b[0;34m)\u001b[0m\u001b[0;34m)\u001b[0m\u001b[0;34m\u001b[0m\u001b[0m\n\u001b[1;32m    898\u001b[0m     \u001b[0;32mif\u001b[0m \u001b[0merror\u001b[0m \u001b[0;32mis\u001b[0m \u001b[0;32mnot\u001b[0m \u001b[0;32mNone\u001b[0m\u001b[0;34m:\u001b[0m\u001b[0;34m\u001b[0m\u001b[0m\n\u001b[0;32m--> 899\u001b[0;31m         \u001b[0;32mraise\u001b[0m \u001b[0merror\u001b[0m\u001b[0;34m\u001b[0m\u001b[0m\n\u001b[0m\u001b[1;32m    900\u001b[0m \u001b[0;34m\u001b[0m\u001b[0m\n\u001b[1;32m    901\u001b[0m \u001b[0;34m\u001b[0m\u001b[0m\n",
      "\u001b[0;31mValidationError\u001b[0m: 'invalid' is a required property\n\nFailed validating 'required' in schema:\n    {'description': 'test PEP schema',\n     'properties': {'_samples': {'items': {'properties': {'genome': {'anyOf': [{'type': 'string'},\n                                                                               {'items': {'type': 'string'},\n                                                                                'type': 'array'}]},\n                                                          'protocol': {'anyOf': [{'type': 'string'},\n                                                                                 {'items': {'type': 'string'},\n                                                                                  'type': 'array'}]},\n                                                          'sample_name': {'anyOf': [{'type': 'string'},\n                                                                                    {'items': {'type': 'string'},\n                                                                                     'type': 'array'}]}},\n                                           'type': 'object'},\n                                 'type': 'array'},\n                    'dcc': {'properties': {'compute_packages': {'type': 'object'}},\n                            'type': 'object'},\n                    'invalid': {'type': 'string'}},\n     'required': ['_samples', 'invalid']}\n\nOn instance:\n    {'_config': {'name': 'test',\n                 'output_dir': 'test',\n                 'pep_version': '2.0.0',\n                 'sample_modifiers': {'append': {'organism': {'Homo sapiens': {'genome': 'hg38'}}}},\n                 'sample_table': '/Users/mstolarczyk/Uczelnia/UVA/code/eido/tests/data/peps/test_sample_table.csv'},\n     '_config_file': '/Users/mstolarczyk/Uczelnia/UVA/code/eido/tests/data/peps/test_cfg.yaml',\n     '_sample_df':   sample_name protocol genome\n    0  GSM1558746      GRO   hg38\n    1  GSM1480327      PRO   hg38,\n     '_sample_table':             genome                              organism protocol sample_name\n    sample_name                                                                  \n    GSM1558746    hg38  {'Homo sapiens': {'genome': 'hg38'}}      GRO  GSM1558746\n    GSM1480327    hg38  {'Homo sapiens': {'genome': 'hg38'}}      PRO  GSM1480327,\n     '_samples': [{'_attributes': ['sample_name', 'protocol', 'genome'],\n                   '_derived_cols_done': [],\n                   '_project': {'_config': {'name': 'test',\n                                            'output_dir': 'test',\n                                            'pep_version': '2.0.0',\n                                            'sample_modifiers': {'append': {'organism': {'Homo sapiens': {'genome': 'hg38'}}}},\n                                            'sample_table': '/Users/mstolarczyk/Uczelnia/UVA/code/eido/tests/data/peps/test_sample_table.csv'},\n                                '_config_file': '/Users/mstolarczyk/Uczelnia/UVA/code/eido/tests/data/peps/test_cfg.yaml',\n                                '_sample_df':   sample_name protocol genome\n    0  GSM1558746      GRO   hg38\n    1  GSM1480327      PRO   hg38,\n                                '_sample_table':             genome                              organism protocol sample_name\n    sample_name                                                                  \n    GSM1558746    hg38  {'Homo sapiens': {'genome': 'hg38'}}      GRO  GSM1558746\n    GSM1480327    hg38  {'Homo sapiens': {'genome': 'hg38'}}      PRO  GSM1480327,\n                                '_samples': <Recursion on list with id=4511272456>,\n                                '_samples_touched': False,\n                                '_subsample_df': None,\n                                'name': 'test',\n                                'sst_index': ['sample_name',\n                                              'subsample_name'],\n                                'st_index': 'sample_name'},\n                   'genome': 'hg38',\n                   'organism': PathExAttMap\n    Homo sapiens:\n      genome: hg38,\n                   'protocol': 'GRO',\n                   'sample_name': 'GSM1558746'},\n                  {'_attributes': ['sample_name', 'protocol', 'genome'],\n                   '_derived_cols_done': [],\n                   '_project': {'_config': {'name': 'test',\n                                            'output_dir': 'test',\n                                            'pep_version': '2.0.0',\n                                            'sample_modifiers': {'append': {'organism': {'Homo sapiens': {'genome': 'hg38'}}}},\n                                            'sample_table': '/Users/mstolarczyk/Uczelnia/UVA/code/eido/tests/data/peps/test_sample_table.csv'},\n                                '_config_file': '/Users/mstolarczyk/Uczelnia/UVA/code/eido/tests/data/peps/test_cfg.yaml',\n                                '_sample_df':   sample_name protocol genome\n    0  GSM1558746      GRO   hg38\n    1  GSM1480327      PRO   hg38,\n                                '_sample_table':             genome                              organism protocol sample_name\n    sample_name                                                                  \n    GSM1558746    hg38  {'Homo sapiens': {'genome': 'hg38'}}      GRO  GSM1558746\n    GSM1480327    hg38  {'Homo sapiens': {'genome': 'hg38'}}      PRO  GSM1480327,\n                                '_samples': <Recursion on list with id=4511272456>,\n                                '_samples_touched': False,\n                                '_subsample_df': None,\n                                'name': 'test',\n                                'sst_index': ['sample_name',\n                                              'subsample_name'],\n                                'st_index': 'sample_name'},\n                   'genome': 'hg38',\n                   'organism': PathExAttMap\n    Homo sapiens:\n      genome: hg38,\n                   'protocol': 'PRO',\n                   'sample_name': 'GSM1480327'}],\n     '_samples_touched': False,\n     '_subsample_df': None,\n     'name': 'test',\n     'sst_index': ['sample_name', 'subsample_name'],\n     'st_index': 'sample_name'}"
     ]
    }
   ],
   "source": [
    "validate_project(project=p, schema=\"../tests/data/schemas/test_schema_invalid.yaml\")"
   ]
  },
  {
   "cell_type": "markdown",
   "metadata": {},
   "source": [
    "## Config validation"
   ]
  },
  {
   "cell_type": "markdown",
   "metadata": {},
   "source": [
    "Similarily, the config part of the PEP can be validated; the function inputs remain the same"
   ]
  },
  {
   "cell_type": "code",
   "execution_count": null,
   "metadata": {},
   "outputs": [],
   "source": [
    "validate_config(project=p, schema=\"../tests/data/schemas/test_schema.yaml\")"
   ]
  },
  {
   "cell_type": "markdown",
   "metadata": {},
   "source": [
    "## Sample validation"
   ]
  },
  {
   "cell_type": "markdown",
   "metadata": {},
   "source": [
    "To validate a specific `peppy.Sample` object within a PEP, one needs to also specify the `sample_name` argument which can be the `peppy.Sample.name` attribute (`str`) or the ID of the sample (`int`)"
   ]
  },
  {
   "cell_type": "code",
   "execution_count": null,
   "metadata": {},
   "outputs": [],
   "source": [
    "validate_sample(project=p, schema=\"../tests/data/schemas/test_schema.yaml\", sample_name=0)"
   ]
  },
  {
   "cell_type": "markdown",
   "metadata": {},
   "source": [
    "## Output details\n",
    "\n",
    "As depicted above the error raised by the `jsonschema` package is very detailed. That's because the entire validated PEP is printed out for the user reference. Since it can get overwhelming in case of the multi sample PEPs each of the `eido` functions presented above privide a way to limit the output to just the general information indicating the unmet schema requirements"
   ]
  },
  {
   "cell_type": "code",
   "execution_count": null,
   "metadata": {},
   "outputs": [],
   "source": [
    "validate_project(project=p, schema=\"../tests/data/schemas/test_schema_invalid.yaml\", exclude_case=True)"
   ]
  },
  {
   "cell_type": "code",
   "execution_count": null,
   "metadata": {},
   "outputs": [],
   "source": []
  }
 ],
 "metadata": {
  "kernelspec": {
   "display_name": "Python 3",
   "language": "python",
   "name": "python3"
  },
  "language_info": {
   "codemirror_mode": {
    "name": "ipython",
    "version": 3
   },
   "file_extension": ".py",
   "mimetype": "text/x-python",
   "name": "python",
   "nbconvert_exporter": "python",
   "pygments_lexer": "ipython3",
   "version": "3.6.5"
  }
 },
 "nbformat": 4,
 "nbformat_minor": 2
}
